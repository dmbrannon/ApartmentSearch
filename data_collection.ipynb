{
 "cells": [
  {
   "cell_type": "markdown",
   "metadata": {},
   "source": [
    "# ApartmentSearch: Data Collection"
   ]
  },
  {
   "cell_type": "code",
   "execution_count": 1,
   "metadata": {},
   "outputs": [],
   "source": [
    "import googlemaps\n",
    "from datetime import datetime\n",
    "\n",
    "gmaps = googlemaps.Client(key='your-API-key-here')\n",
    "now = datetime.now()"
   ]
  },
  {
   "cell_type": "code",
   "execution_count": 2,
   "metadata": {},
   "outputs": [],
   "source": [
    "# List of apartments and their addresses pulled directly from Google Maps\n",
    "apartments = {\"Echo Apartments\":\"Echo Apartments, 4527 N Lamar Blvd, Austin, TX 78751\",\n",
    "             \"The Boulevard at Town Lake\":\"The Boulevard at Town Lake Apartments, Lake Austin Boulevard, Austin, TX\",\n",
    "             \"Westerly 360\":\"Westerly 360, Walsh Tarlton Lane, Austin, TX\",\n",
    "             \"Barton Creek Landing\":\"Barton Creek Landing, Bartons Bluff Lane, Austin, TX\",\n",
    "             \"Pressler\":\"Pressler Apartments, Pressler Street, Austin, TX\",\n",
    "             \"Norwalk\":\"1411 Norwalk Lane, Austin, TX\",\n",
    "             \"Gables Central Park\":\"Gables Central Park, West 38th Street, Austin, TX\",\n",
    "             \"Woodlawn\":\"Woodlawn Apartments, 1500 Woodlawn Boulevard, Austin, TX\",\n",
    "             \"Koenig Flats\":\"West Koenig Flats Apartment Homes, Avenue F, Austin, TX\",\n",
    "             \"The Richardson\":\"The Richardson, Exposition Boulevard, Austin, TX\",\n",
    "             \"AMLI\":\"AMLI on Aldrich, Aldrich Street, Austin, TX\",\n",
    "             \"Burnet\":\"4112 Medical Pkwy, Austin, TX\"}"
   ]
  },
  {
   "cell_type": "markdown",
   "metadata": {},
   "source": [
    "### Morning Commute"
   ]
  },
  {
   "cell_type": "code",
   "execution_count": 3,
   "metadata": {},
   "outputs": [],
   "source": [
    "if (now.hour < 12):\n",
    "    # Request travel time and directions with travel mode set to driving\n",
    "    for complex in apartments:\n",
    "        directions_result = gmaps.directions(apartments[complex],\n",
    "                                             \"Kimley-Horn - Austin South, Terrace I, Vía Fortuna Suite 300, Austin, TX\",\n",
    "                                             mode=\"driving\",\n",
    "                                             departure_time=now)\n",
    "        # Write travel data to file in CSV format\n",
    "        with open('travel_data.txt', 'a', encoding = 'utf-8') as f:\n",
    "            f.write(str(now.year)+\"-\"+str(now.month)+\"-\"+str(now.day)+\",\"\n",
    "                +str(now.hour)+\":\"+str(now.minute)+\",\"\n",
    "                +complex+\",KIMLEY-HORN,\"\n",
    "                +directions_result[0].get(\"legs\")[0].get(\"distance\")[\"text\"]+\",\"\n",
    "                +directions_result[0].get(\"legs\")[0].get(\"duration\")[\"text\"]+\",\"\n",
    "                +directions_result[0].get(\"legs\")[0].get(\"duration_in_traffic\")[\"text\"]+\",\"\n",
    "                +directions_result[0].get(\"summary\")\n",
    "                +\"\\n\")"
   ]
  },
  {
   "cell_type": "markdown",
   "metadata": {},
   "source": [
    "### Evening Commute"
   ]
  },
  {
   "cell_type": "code",
   "execution_count": 40,
   "metadata": {},
   "outputs": [],
   "source": [
    "if (now.hour > 12):\n",
    "    # Request travel time and directions with travel mode set to driving\n",
    "    for complex in apartments:\n",
    "        directions_result = gmaps.directions(\"Kimley-Horn - Austin South, Terrace I, Vía Fortuna Suite 300, Austin, TX\",\n",
    "                                             apartments[complex],\n",
    "                                             mode=\"driving\",\n",
    "                                             departure_time=now)\n",
    "        # Write travel data to file in CSV format\n",
    "        with open('travel_data.txt', 'a', encoding = 'utf-8') as f:\n",
    "            f.write(str(now.year)+\"-\"+str(now.month)+\"-\"+str(now.day)+\",\"\n",
    "                +str(now.hour)+\":\"+str(now.minute)+\",\"\n",
    "                +\"KIMLEY-HORN,\"+complex+\",\"\n",
    "                +directions_result[0].get(\"legs\")[0].get(\"distance\")[\"text\"]+\",\"\n",
    "                +directions_result[0].get(\"legs\")[0].get(\"duration\")[\"text\"]+\",\"\n",
    "                +directions_result[0].get(\"legs\")[0].get(\"duration_in_traffic\")[\"text\"]+\",\"\n",
    "                +directions_result[0].get(\"summary\")\n",
    "                +\"\\n\")"
   ]
  }
 ],
 "metadata": {
  "kernelspec": {
   "display_name": "Python 3",
   "language": "python",
   "name": "python3"
  },
  "language_info": {
   "codemirror_mode": {
    "name": "ipython",
    "version": 3
   },
   "file_extension": ".py",
   "mimetype": "text/x-python",
   "name": "python",
   "nbconvert_exporter": "python",
   "pygments_lexer": "ipython3",
   "version": "3.7.0b1"
  }
 },
 "nbformat": 4,
 "nbformat_minor": 2
}
